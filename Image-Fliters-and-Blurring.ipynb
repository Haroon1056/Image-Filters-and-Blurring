{
 "cells": [
  {
   "cell_type": "markdown",
   "id": "306f8f54",
   "metadata": {},
   "source": [
    "# Image Filters and Blurring\n",
    "## Lesson 1: Image Filters and Blurring\n",
    "Learning Objective:\n",
    "\n",
    "Understand how image filtering works using convolution and built-in OpenCV blurring methods.\n",
    "\n",
    "Topics:\n",
    "\n",
    "● What is an image filter?\n",
    "\n",
    "● Gaussian Blur\n",
    "\n",
    "● Median Blur\n",
    "\n",
    "● Bilateral Filter"
   ]
  },
  {
   "cell_type": "code",
   "execution_count": null,
   "id": "1a95928f-c86c-4c4e-b4ee-80136bf88b12",
   "metadata": {},
   "outputs": [],
   "source": [
    "import cv2\n",
    "import numpy as np"
   ]
  },
  {
   "cell_type": "code",
   "execution_count": 2,
   "id": "dddce523",
   "metadata": {},
   "outputs": [],
   "source": [
    "img = cv2.imread('images/sample.jpg')\n",
    "\n",
    "# Apply Gaussian Blur\n",
    "gaussian = cv2.GaussianBlur(img, (15, 15), 0)\n",
    "\n",
    "# Apply Median Blur\n",
    "median = cv2.medianBlur(img, 15)\n",
    "\n",
    "# Apply Bilateral Filter\n",
    "bilateral = cv2.bilateralFilter(img, 15, 75, 75)\n",
    "\n",
    "cv2.imshow(\"Gaussian Blur\", gaussian)\n",
    "cv2.imshow(\"Median Blur\", median)\n",
    "cv2.imshow(\"Bilateral Filter\", bilateral)\n",
    "cv2.waitKey(0)\n",
    "cv2.destroyAllWindows()"
   ]
  },
  {
   "cell_type": "markdown",
   "id": "6bd42f44",
   "metadata": {},
   "source": [
    "### Task 1: Completed in task1.py file"
   ]
  },
  {
   "cell_type": "markdown",
   "id": "d29420a2",
   "metadata": {},
   "source": [
    "## Lesson 2: Custom Image Filters with Kernels\n",
    "Learning Objective:\n",
    "\n",
    "Learn to apply custom filters like sharpening and edge detection using convolution kernels.\n",
    "\n",
    "Topics:\n",
    "\n",
    "● Convolution basics\n",
    "\n",
    "● cv2.filter2D\n",
    "\n",
    "● Sharpening kernel\n",
    "\n",
    "● Edge detection kernel"
   ]
  },
  {
   "cell_type": "code",
   "execution_count": 3,
   "id": "af7d97dc",
   "metadata": {},
   "outputs": [],
   "source": [
    "img = cv2.imread(\"images/sample.jpg\")\n",
    "\n",
    "# Sharpening kernel\n",
    "kernel_sharpen = np.array([[0, -1, 0],\n",
    "                            [-1, 5,-1],\n",
    "                            [0, -1, 0]])\n",
    "\n",
    "# Edge Detection Kernel\n",
    "kernel_edge = np.array([[-1, -1, -1],\n",
    "                         [-1,  8, -1],\n",
    "                         [-1, -1, -1]])\n",
    "\n",
    "sharpened = cv2.filter2D(img, -1, kernel_sharpen)\n",
    "edges = cv2.filter2D(img, -1, kernel_edge)\n",
    "\n",
    "cv2.imshow(\"Sharpened Image\", sharpened)\n",
    "cv2.imshow(\"Edge Detected Image\", edges)\n",
    "cv2.imshow(\"Original Image\", img)\n",
    "cv2.waitKey(0)\n",
    "cv2.destroyAllWindows()"
   ]
  },
  {
   "cell_type": "markdown",
   "id": "3f2e0534",
   "metadata": {},
   "source": [
    "### Task 2: Completed in task2.py file"
   ]
  },
  {
   "cell_type": "markdown",
   "id": "e2ac2172",
   "metadata": {},
   "source": [
    "## Lesson 3: Image Arithmetic & Bitwise Operations\n",
    "Learning Objective:\n",
    "\n",
    "Understand how to blend images and use bitwise operations for masking.\n",
    "### Topics:\n",
    "● Image addition and blending\n",
    "\n",
    "● Bitwise AND, OR, NOT operations\n",
    "\n",
    "● Creating masks"
   ]
  },
  {
   "cell_type": "code",
   "execution_count": 3,
   "id": "d238a7e9",
   "metadata": {},
   "outputs": [],
   "source": [
    "img1 = cv2.imread(\"images/sample.jpg\")\n",
    "img2 = cv2.imread(\"images/logo.jpg\")\n",
    "\n",
    "# Resize img2 to match img1\n",
    "img2 = cv2.resize(img2, (img1.shape[1], img1.shape[0]))\n",
    "# Blend the two\n",
    "blended = cv2.addWeighted(img1, 0.7, img2, 0.3, 0)\n",
    "cv2.imshow('Blended', blended)\n",
    "\n",
    "cv2.imshow(\"Image 1\", img1)\n",
    "cv2.imshow(\"Image 2\", img2)\n",
    "cv2.waitKey(0)\n",
    "cv2.destroyAllWindows()"
   ]
  },
  {
   "cell_type": "code",
   "execution_count": 11,
   "id": "0c280960",
   "metadata": {},
   "outputs": [],
   "source": [
    "img1 = cv2.imread(\"images/sample.jpg\")\n",
    "\n",
    "mask = np.zeros(img1.shape[:2], dtype=\"uint8\")\n",
    "cv2.rectangle(mask, (300, 20), (400, 150), 255, -1)\n",
    "\n",
    "masked = cv2.bitwise_and(img1, img1, mask=mask)\n",
    "\n",
    "cv2.imshow(\"Masked Region\", masked)\n",
    "cv2.waitKey(0)\n",
    "cv2.destroyAllWindows() "
   ]
  },
  {
   "cell_type": "markdown",
   "id": "b012e7e7",
   "metadata": {},
   "source": [
    "### Task 3: Completed in task3.py file"
   ]
  },
  {
   "cell_type": "markdown",
   "id": "5963afe0",
   "metadata": {},
   "source": [
    "## Lesson 4: Perspective and Affine Transformations\n",
    "Learning Objective:\n",
    "\n",
    "Understand how to manipulate the orientation and shape of images using geometric transforms\n",
    "## Topics:\n",
    "● Difference between Affine and Perspective transforms\n",
    "\n",
    "● cv2.getAffineTransform() and cv2.warpAffine()\n",
    "\n",
    "● cv2.getPerspectiveTransform() and cv2.warpPerspective()"
   ]
  },
  {
   "cell_type": "code",
   "execution_count": null,
   "id": "b98b9b1e",
   "metadata": {},
   "outputs": [],
   "source": [
    "# Affine Transform\n",
    "img = cv2.imread('images/sample.jpg')\n",
    "\n",
    "pts1 = np.float32([[50, 50], [200, 50], [50, 200]])\n",
    "pts2 = np.float32([[10, 100], [200, 50], [100, 250]])\n",
    "\n",
    "matrix = cv2.getAffineTransform(pts1, pts2)\n",
    "\n",
    "result = cv2.warpAffine(img, matrix, (img.shape[1], img.shape[0]))\n",
    "\n",
    "cv2.imshow(\"Affine Transform\", result)\n",
    "cv2.waitKey(0)\n",
    "cv2.destroyAllWindows()"
   ]
  },
  {
   "cell_type": "code",
   "execution_count": 39,
   "id": "ebfdaec2",
   "metadata": {},
   "outputs": [],
   "source": [
    "# Perspective Transform\n",
    "\n",
    "img = cv2.imread('images/documents.jpg')\n",
    "\n",
    "\n",
    "pts1 = np.float32([[21,54], [157, 42], [6, 225], [185, 225]])\n",
    "pts2 = np.float32([[0, 0], [200, 0], [0, 230], [200, 230]])\n",
    "\n",
    "matrix = cv2.getPerspectiveTransform(pts1, pts2)\n",
    "result = cv2.warpPerspective(img, matrix, (img.shape[1], img.shape[0]))\n",
    "\n",
    "cv2.imshow(\"Original\", img)\n",
    "cv2.imshow(\"Perspective Transform\", result)\n",
    "cv2.waitKey(0)\n",
    "cv2.destroyAllWindows()"
   ]
  },
  {
   "cell_type": "markdown",
   "id": "ad41ed67",
   "metadata": {},
   "source": [
    "### Task 4: Completed in task4.py file"
   ]
  },
  {
   "cell_type": "markdown",
   "id": "61bdc140",
   "metadata": {},
   "source": [
    "## Lesson 5: Image Pyramids & Zooming\n",
    "Learning Objective:\n",
    "\n",
    "Use pyramids to create scaled versions of an image for zoom effects and \n",
    "\n",
    "multiscale analysis.\n",
    "### Topics:\n",
    "● Gaussian pyramid (downsampling)\n",
    "\n",
    "● Laplacian pyramid (edge emphasis)\n",
    "\n",
    "● cv2.pyrDown() and cv2.pyrUp()\n"
   ]
  },
  {
   "cell_type": "code",
   "execution_count": null,
   "id": "12c72b31",
   "metadata": {},
   "outputs": [],
   "source": [
    "img = cv2.imread(\"images/sample.jpg\")\n",
    "\n",
    "lower_reso = cv2.pyrDown(img)\n",
    "higher_reso = cv2.pyrUp(lower_reso)\n",
    "\n",
    "cv2.imshow(\"Original Image\", img)\n",
    "cv2.imshow(\"Downsampled\", lower_reso)\n",
    "cv2.imshow(\"Upsampled\", higher_reso)\n",
    "cv2.waitKey(0)\n",
    "cv2.destroyAllWindows()\n"
   ]
  },
  {
   "cell_type": "markdown",
   "id": "fc33662f",
   "metadata": {},
   "source": [
    "### Task 5: Completed in task5.py file"
   ]
  },
  {
   "cell_type": "markdown",
   "id": "fad386a8",
   "metadata": {},
   "source": [
    "## Lesson 6: Trackbars for Real-Time Parameters\n",
    "Learning Objective:\n",
    "\n",
    "Use OpenCV GUI elements to adjust image processing parameters in real-time.\n",
    "### Topics:\n",
    "● cv2.createTrackbar()\n",
    "\n",
    "● Real-time Canny thresholding\n",
    "\n",
    "● Custom filters with trackbars"
   ]
  },
  {
   "cell_type": "code",
   "execution_count": null,
   "id": "bbb281e7",
   "metadata": {},
   "outputs": [],
   "source": [
    "img = cv2.imread(\"images/sample.jpg\", 0)\n",
    "\n",
    "def nothing(x):\n",
    "    pass\n",
    "\n",
    "cv2.namedWindow(\"Canny\")\n",
    "# Create trackbars for thresholds\n",
    "cv2.createTrackbar(\"Min\", \"Canny\", 0, 255, nothing)\n",
    "cv2.createTrackbar(\"Max\", \"Canny\", 0, 255, nothing)\n",
    "\n",
    "while True:\n",
    "    min_val = cv2.getTrackbarPos(\"Min\", \"Canny\")\n",
    "    max_val = cv2.getTrackbarPos(\"Max\", \"Canny\")\n",
    "    edges = cv2.Canny(img, min_val, max_val)\n",
    "    cv2.imshow(\"Canny\", edges)\n",
    "    if cv2.waitKey(1) & 0xFF == 27:  # ESC key\n",
    "        break\n",
    "\n",
    "cv2.destroyAllWindows()"
   ]
  },
  {
   "cell_type": "markdown",
   "id": "6b8f9b03",
   "metadata": {},
   "source": [
    "### Task 6: Completed in task6.py file"
   ]
  },
  {
   "cell_type": "markdown",
   "id": "d3f5d18b",
   "metadata": {},
   "source": [
    "## Lesson 7: Image Histograms & Contrast Enhancement\n",
    "### Learning Objective:\n",
    "Understand image histograms and apply techniques like histogram equalization to improve\n",
    "contrast.\n",
    "## Topics:\n",
    "● Histogram plotting with cv2.calcHist()\n",
    "\n",
    "● Histogram equalization with cv2.equalizeHist()\n",
    "\n",
    "● CLAHE (Contrast Limited Adaptive Histogram Equalization)\n"
   ]
  },
  {
   "cell_type": "code",
   "execution_count": 12,
   "id": "a228567d",
   "metadata": {},
   "outputs": [
    {
     "data": {
      "image/png": "[encoded data removed]",
      "text/plain": [
       "<Figure size 640x480 with 1 Axes>"
      ]
     },
     "metadata": {},
     "output_type": "display_data"
    }
   ],
   "source": [
    "import matplotlib.pyplot as plt\n",
    "\n",
    "img = cv2.imread(\"images/sample.jpg\", 0)\n",
    "\n",
    "# Plot histogram\n",
    "hist = cv2.calcHist([img], [0], None, [256], [0, 256])\n",
    "plt.plot(hist)\n",
    "plt.show()\n",
    "\n",
    "# # Equalize\n",
    "equalized = cv2.equalizeHist(img)\n",
    "\n",
    "cv2.imshow(\"Original\", img)\n",
    "cv2.imshow(\"Equalized\", equalized)\n",
    "cv2.waitKey(0)\n",
    "cv2.destroyAllWindows()"
   ]
  },
  {
   "cell_type": "markdown",
   "id": "ca8157bb",
   "metadata": {},
   "source": [
    "### Task 7: Completed in task7.py file"
   ]
  },
  {
   "cell_type": "markdown",
   "id": "f16e0378",
   "metadata": {},
   "source": [
    "## Lesson 8: Morphological Transformations\n",
    "### Learning Objective:\n",
    "Learn to apply operations like erosion, dilation, opening, and closing to clean up binary images.\n",
    "### Topics:\n",
    "● Erosion and Dilation\n",
    "\n",
    "● Opening and Closing\n",
    "\n",
    "● cv2.getStructuringElement()\n"
   ]
  },
  {
   "cell_type": "code",
   "execution_count": 13,
   "id": "07f62d1a",
   "metadata": {},
   "outputs": [],
   "source": [
    "\n",
    "img = cv2.imread('images/binary.jpg', 0)\n",
    "img = cv2.resize(img, (400, 400))\n",
    "kernel = np.ones((5, 5), np.uint8)\n",
    "\n",
    "\n",
    "erosion = cv2.erode(img, kernel, iterations=1)\n",
    "dilation = cv2.dilate(img, kernel, iterations=1)\n",
    "opening = cv2.morphologyEx(img, cv2.MORPH_OPEN, kernel)\n",
    "closing = cv2.morphologyEx(img, cv2.MORPH_CLOSE, kernel)\n",
    "\n",
    "cv2.imshow(\"Original\", img)\n",
    "cv2.imshow(\"Erosion\", erosion)\n",
    "cv2.imshow(\"Dilation\", dilation)\n",
    "cv2.imshow(\"Opening\", opening)\n",
    "cv2.imshow(\"Closing\", closing)\n",
    "cv2.waitKey(0)\n",
    "cv2.destroyAllWindows()\n"
   ]
  },
  {
   "cell_type": "markdown",
   "id": "6177a0b8",
   "metadata": {},
   "source": [
    "### Task 8: Completed in task8.py file"
   ]
  },
  {
   "cell_type": "markdown",
   "id": "87c91725",
   "metadata": {},
   "source": [
    "## Lesson 9: Template Matching\n",
    "### Learning Objective:\n",
    "Detect smaller objects or logos inside an image using template matching.\n",
    "### Topics:\n",
    "● cv2.matchTemplate()\n",
    "\n",
    "● cv2.minMaxLoc()\n"
   ]
  },
  {
   "cell_type": "code",
   "execution_count": 29,
   "id": "64b12a11",
   "metadata": {},
   "outputs": [],
   "source": [
    "img = cv2.imread(\"images/sample.jpg\")\n",
    "gry = cv2.cvtColor(img, cv2.COLOR_BGR2GRAY)\n",
    "template = cv2.imread(\"images/logo.jpg\")\n",
    "gry1 = cv2.cvtColor(template, cv2.COLOR_BGR2GRAY)\n",
    "\n",
    "res = cv2.matchTemplate(gry, gry1, cv2.TM_CCORR_NORMED)\n",
    "min_val, max_val, min_loc, max_loc = cv2.minMaxLoc(res)\n",
    "\n",
    "(h, w) = gry1.shape[:2]\n",
    "cv2.rectangle(img, max_loc, (max_loc[0] + w, max_loc[1] + h), (0, 255, 0), 2)\n",
    "\n",
    "cv2.imshow(\"Detected\", img)\n",
    "cv2.imshow(\"Template\", template)\n",
    "cv2.waitKey(0)\n",
    "cv2.destroyAllWindows()"
   ]
  },
  {
   "cell_type": "markdown",
   "id": "c1e96925",
   "metadata": {},
   "source": [
    "### Task 9: Completed in task9.py file"
   ]
  },
  {
   "cell_type": "code",
   "execution_count": null,
   "id": "91a83ce8",
   "metadata": {},
   "outputs": [],
   "source": []
  },
  {
   "cell_type": "code",
   "execution_count": 38,
   "id": "d347dc64",
   "metadata": {},
   "outputs": [],
   "source": [
    "img = cv2.imread(\"images\\shape.jpg\")\n",
    "gry = cv2.cvtColor(img, cv2.COLOR_BGR2GRAY)\n",
    "\n",
    "r,thr = cv2.threshold(gry, 250,255, cv2.THRESH_BINARY)\n",
    "c, h = cv2.findContours(thr, cv2.RETR_TREE, cv2.CHAIN_APPROX_SIMPLE)\n",
    "\n",
    "new_img = cv2.drawContours(img, c, -1, (255,0,0),2)\n",
    "\n",
    "cv2.imshow(\"New Image\", new_img)\n",
    "cv2.waitKey(0)\n",
    "cv2.destroyAllWindows()\n"
   ]
  },
  {
   "cell_type": "code",
   "execution_count": null,
   "id": "6e375292",
   "metadata": {},
   "outputs": [],
   "source": []
  },
  {
   "cell_type": "code",
   "execution_count": null,
   "id": "0abe3a20",
   "metadata": {},
   "outputs": [],
   "source": []
  }
 ],
 "metadata": {
  "kernelspec": {
   "display_name": "opencv_env",
   "language": "python",
   "name": "python3"
  },
  "language_info": {
   "codemirror_mode": {
    "name": "ipython",
    "version": 3
   },
   "file_extension": ".py",
   "mimetype": "text/x-python",
   "name": "python",
   "nbconvert_exporter": "python",
   "pygments_lexer": "ipython3",
   "version": "3.10.11"
  }
 },
 "nbformat": 4,
 "nbformat_minor": 5
}
